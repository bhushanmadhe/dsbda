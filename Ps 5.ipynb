{
 "cells": [
  {
   "cell_type": "code",
   "execution_count": 1,
   "id": "05e53e81-b305-486b-b338-d20a46c6b27f",
   "metadata": {},
   "outputs": [
    {
     "data": {
      "text/html": [
       "<div>\n",
       "<style scoped>\n",
       "    .dataframe tbody tr th:only-of-type {\n",
       "        vertical-align: middle;\n",
       "    }\n",
       "\n",
       "    .dataframe tbody tr th {\n",
       "        vertical-align: top;\n",
       "    }\n",
       "\n",
       "    .dataframe thead th {\n",
       "        text-align: right;\n",
       "    }\n",
       "</style>\n",
       "<table border=\"1\" class=\"dataframe\">\n",
       "  <thead>\n",
       "    <tr style=\"text-align: right;\">\n",
       "      <th></th>\n",
       "      <th>SepalLength</th>\n",
       "      <th>SepalWidth</th>\n",
       "      <th>PetalLength</th>\n",
       "      <th>PetalWidth</th>\n",
       "      <th>Species</th>\n",
       "    </tr>\n",
       "  </thead>\n",
       "  <tbody>\n",
       "    <tr>\n",
       "      <th>0</th>\n",
       "      <td>5.248357</td>\n",
       "      <td>3.125246</td>\n",
       "      <td>3.085502</td>\n",
       "      <td>0.968660</td>\n",
       "      <td>Iris-setosa</td>\n",
       "    </tr>\n",
       "    <tr>\n",
       "      <th>1</th>\n",
       "      <td>4.930868</td>\n",
       "      <td>3.173224</td>\n",
       "      <td>3.219909</td>\n",
       "      <td>1.477571</td>\n",
       "      <td>Iris-versicolor</td>\n",
       "    </tr>\n",
       "    <tr>\n",
       "      <th>2</th>\n",
       "      <td>5.323844</td>\n",
       "      <td>2.659988</td>\n",
       "      <td>3.873647</td>\n",
       "      <td>0.507137</td>\n",
       "      <td>Iris-virginica</td>\n",
       "    </tr>\n",
       "    <tr>\n",
       "      <th>3</th>\n",
       "      <td>5.761515</td>\n",
       "      <td>3.116127</td>\n",
       "      <td>3.805185</td>\n",
       "      <td>1.252023</td>\n",
       "      <td>Iris-setosa</td>\n",
       "    </tr>\n",
       "    <tr>\n",
       "      <th>4</th>\n",
       "      <td>4.882923</td>\n",
       "      <td>3.146536</td>\n",
       "      <td>3.489549</td>\n",
       "      <td>0.734871</td>\n",
       "      <td>Iris-versicolor</td>\n",
       "    </tr>\n",
       "  </tbody>\n",
       "</table>\n",
       "</div>"
      ],
      "text/plain": [
       "   SepalLength  SepalWidth  PetalLength  PetalWidth          Species\n",
       "0     5.248357    3.125246     3.085502    0.968660      Iris-setosa\n",
       "1     4.930868    3.173224     3.219909    1.477571  Iris-versicolor\n",
       "2     5.323844    2.659988     3.873647    0.507137   Iris-virginica\n",
       "3     5.761515    3.116127     3.805185    1.252023      Iris-setosa\n",
       "4     4.882923    3.146536     3.489549    0.734871  Iris-versicolor"
      ]
     },
     "execution_count": 1,
     "metadata": {},
     "output_type": "execute_result"
    }
   ],
   "source": [
    "import pandas as pd\n",
    "df = pd.read_csv(\"Ps5, Ps8,Ps13 (iris_synthetic).csv\") \n",
    "df.head() "
   ]
  },
  {
   "cell_type": "code",
   "execution_count": 2,
   "id": "fb7f225c-cf22-4d8e-8d6e-d394629cea59",
   "metadata": {},
   "outputs": [
    {
     "data": {
      "text/html": [
       "<div>\n",
       "<style scoped>\n",
       "    .dataframe tbody tr th:only-of-type {\n",
       "        vertical-align: middle;\n",
       "    }\n",
       "\n",
       "    .dataframe tbody tr th {\n",
       "        vertical-align: top;\n",
       "    }\n",
       "\n",
       "    .dataframe thead th {\n",
       "        text-align: right;\n",
       "    }\n",
       "</style>\n",
       "<table border=\"1\" class=\"dataframe\">\n",
       "  <thead>\n",
       "    <tr style=\"text-align: right;\">\n",
       "      <th></th>\n",
       "      <th>count</th>\n",
       "      <th>mean</th>\n",
       "      <th>std</th>\n",
       "      <th>min</th>\n",
       "      <th>25%</th>\n",
       "      <th>50%</th>\n",
       "      <th>75%</th>\n",
       "      <th>max</th>\n",
       "    </tr>\n",
       "    <tr>\n",
       "      <th>Species</th>\n",
       "      <th></th>\n",
       "      <th></th>\n",
       "      <th></th>\n",
       "      <th></th>\n",
       "      <th></th>\n",
       "      <th></th>\n",
       "      <th></th>\n",
       "      <th></th>\n",
       "    </tr>\n",
       "  </thead>\n",
       "  <tbody>\n",
       "    <tr>\n",
       "      <th>Iris-setosa</th>\n",
       "      <td>50.0</td>\n",
       "      <td>4.976777</td>\n",
       "      <td>0.375653</td>\n",
       "      <td>4.299074</td>\n",
       "      <td>4.721094</td>\n",
       "      <td>4.973041</td>\n",
       "      <td>5.176870</td>\n",
       "      <td>5.789606</td>\n",
       "    </tr>\n",
       "    <tr>\n",
       "      <th>Iris-versicolor</th>\n",
       "      <td>50.0</td>\n",
       "      <td>4.944403</td>\n",
       "      <td>0.505585</td>\n",
       "      <td>4.006216</td>\n",
       "      <td>4.621665</td>\n",
       "      <td>4.946822</td>\n",
       "      <td>5.350282</td>\n",
       "      <td>5.943093</td>\n",
       "    </tr>\n",
       "    <tr>\n",
       "      <th>Iris-virginica</th>\n",
       "      <td>50.0</td>\n",
       "      <td>4.955330</td>\n",
       "      <td>0.527051</td>\n",
       "      <td>3.690127</td>\n",
       "      <td>4.597537</td>\n",
       "      <td>4.987948</td>\n",
       "      <td>5.237680</td>\n",
       "      <td>6.231621</td>\n",
       "    </tr>\n",
       "  </tbody>\n",
       "</table>\n",
       "</div>"
      ],
      "text/plain": [
       "                 count      mean       std       min       25%       50%  \\\n",
       "Species                                                                    \n",
       "Iris-setosa       50.0  4.976777  0.375653  4.299074  4.721094  4.973041   \n",
       "Iris-versicolor   50.0  4.944403  0.505585  4.006216  4.621665  4.946822   \n",
       "Iris-virginica    50.0  4.955330  0.527051  3.690127  4.597537  4.987948   \n",
       "\n",
       "                      75%       max  \n",
       "Species                              \n",
       "Iris-setosa      5.176870  5.789606  \n",
       "Iris-versicolor  5.350282  5.943093  \n",
       "Iris-virginica   5.237680  6.231621  "
      ]
     },
     "execution_count": 2,
     "metadata": {},
     "output_type": "execute_result"
    }
   ],
   "source": [
    "df.groupby('Species')['SepalLength'].describe()\n"
   ]
  },
  {
   "cell_type": "code",
   "execution_count": 3,
   "id": "1a5c91e8-1eb6-4677-8c46-a96583a74f84",
   "metadata": {},
   "outputs": [
    {
     "data": {
      "text/html": [
       "<div>\n",
       "<style scoped>\n",
       "    .dataframe tbody tr th:only-of-type {\n",
       "        vertical-align: middle;\n",
       "    }\n",
       "\n",
       "    .dataframe tbody tr th {\n",
       "        vertical-align: top;\n",
       "    }\n",
       "\n",
       "    .dataframe thead th {\n",
       "        text-align: right;\n",
       "    }\n",
       "</style>\n",
       "<table border=\"1\" class=\"dataframe\">\n",
       "  <thead>\n",
       "    <tr style=\"text-align: right;\">\n",
       "      <th></th>\n",
       "      <th>SepalLength</th>\n",
       "    </tr>\n",
       "  </thead>\n",
       "  <tbody>\n",
       "    <tr>\n",
       "      <th>sum</th>\n",
       "      <td>743.825485</td>\n",
       "    </tr>\n",
       "    <tr>\n",
       "      <th>min</th>\n",
       "      <td>3.690127</td>\n",
       "    </tr>\n",
       "    <tr>\n",
       "      <th>max</th>\n",
       "      <td>6.231621</td>\n",
       "    </tr>\n",
       "  </tbody>\n",
       "</table>\n",
       "</div>"
      ],
      "text/plain": [
       "     SepalLength\n",
       "sum   743.825485\n",
       "min     3.690127\n",
       "max     6.231621"
      ]
     },
     "execution_count": 3,
     "metadata": {},
     "output_type": "execute_result"
    }
   ],
   "source": [
    "df.agg({'SepalLength': ['sum', 'min', 'max']})\n"
   ]
  },
  {
   "cell_type": "code",
   "execution_count": 4,
   "id": "7535d1e0-23c1-474c-96f0-91ce56256b81",
   "metadata": {},
   "outputs": [
    {
     "data": {
      "text/plain": [
       "Species\n",
       "Iris-setosa        4.973041\n",
       "Iris-versicolor    4.946822\n",
       "Iris-virginica     4.987948\n",
       "Name: SepalLength, dtype: float64"
      ]
     },
     "execution_count": 4,
     "metadata": {},
     "output_type": "execute_result"
    }
   ],
   "source": [
    "df.groupby('Species')['SepalLength'].median()\n"
   ]
  },
  {
   "cell_type": "code",
   "execution_count": 5,
   "id": "f2494bf9-cb1e-486a-b3ba-7972505022f0",
   "metadata": {},
   "outputs": [
    {
     "data": {
      "text/plain": [
       "Species\n",
       "Iris-setosa        4.976777\n",
       "Iris-versicolor    4.944403\n",
       "Iris-virginica     4.955330\n",
       "Name: SepalLength, dtype: float64"
      ]
     },
     "execution_count": 5,
     "metadata": {},
     "output_type": "execute_result"
    }
   ],
   "source": [
    "df.groupby('Species')['SepalLength'].mean()\n"
   ]
  },
  {
   "cell_type": "code",
   "execution_count": 6,
   "id": "ef64fa9e-ebe8-441f-8b3d-266681b8a553",
   "metadata": {},
   "outputs": [
    {
     "data": {
      "text/plain": [
       "Species\n",
       "Iris-setosa        50\n",
       "Iris-versicolor    50\n",
       "Iris-virginica     50\n",
       "Name: SepalLength, dtype: int64"
      ]
     },
     "execution_count": 6,
     "metadata": {},
     "output_type": "execute_result"
    }
   ],
   "source": [
    "df.groupby('Species')['SepalLength'].count()\n"
   ]
  },
  {
   "cell_type": "code",
   "execution_count": 7,
   "id": "955696da-8f1c-477b-814e-47a84bfe6e9e",
   "metadata": {},
   "outputs": [
    {
     "data": {
      "text/plain": [
       "Species\n",
       "Iris-setosa        0.375653\n",
       "Iris-versicolor    0.505585\n",
       "Iris-virginica     0.527051\n",
       "Name: SepalLength, dtype: float64"
      ]
     },
     "execution_count": 7,
     "metadata": {},
     "output_type": "execute_result"
    }
   ],
   "source": [
    "df.groupby('Species')['SepalLength'].std()\n"
   ]
  },
  {
   "cell_type": "code",
   "execution_count": 8,
   "id": "eae1cb63-555d-4b4b-9d2d-43edaf9b4ccc",
   "metadata": {},
   "outputs": [
    {
     "data": {
      "text/html": [
       "<div>\n",
       "<style scoped>\n",
       "    .dataframe tbody tr th:only-of-type {\n",
       "        vertical-align: middle;\n",
       "    }\n",
       "\n",
       "    .dataframe tbody tr th {\n",
       "        vertical-align: top;\n",
       "    }\n",
       "\n",
       "    .dataframe thead th {\n",
       "        text-align: right;\n",
       "    }\n",
       "</style>\n",
       "<table border=\"1\" class=\"dataframe\">\n",
       "  <thead>\n",
       "    <tr style=\"text-align: right;\">\n",
       "      <th></th>\n",
       "      <th>sum</th>\n",
       "      <th>min</th>\n",
       "      <th>max</th>\n",
       "    </tr>\n",
       "    <tr>\n",
       "      <th>Species</th>\n",
       "      <th></th>\n",
       "      <th></th>\n",
       "      <th></th>\n",
       "    </tr>\n",
       "  </thead>\n",
       "  <tbody>\n",
       "    <tr>\n",
       "      <th>Iris-setosa</th>\n",
       "      <td>248.838855</td>\n",
       "      <td>4.299074</td>\n",
       "      <td>5.789606</td>\n",
       "    </tr>\n",
       "    <tr>\n",
       "      <th>Iris-versicolor</th>\n",
       "      <td>247.220149</td>\n",
       "      <td>4.006216</td>\n",
       "      <td>5.943093</td>\n",
       "    </tr>\n",
       "    <tr>\n",
       "      <th>Iris-virginica</th>\n",
       "      <td>247.766481</td>\n",
       "      <td>3.690127</td>\n",
       "      <td>6.231621</td>\n",
       "    </tr>\n",
       "  </tbody>\n",
       "</table>\n",
       "</div>"
      ],
      "text/plain": [
       "                        sum       min       max\n",
       "Species                                        \n",
       "Iris-setosa      248.838855  4.299074  5.789606\n",
       "Iris-versicolor  247.220149  4.006216  5.943093\n",
       "Iris-virginica   247.766481  3.690127  6.231621"
      ]
     },
     "execution_count": 8,
     "metadata": {},
     "output_type": "execute_result"
    }
   ],
   "source": [
    "df.groupby('Species')['SepalLength'].agg(['sum', 'min', 'max'])\n"
   ]
  },
  {
   "cell_type": "code",
   "execution_count": 9,
   "id": "c5bc6318-5a28-4435-8fad-0d70b58c3eb9",
   "metadata": {},
   "outputs": [
    {
     "data": {
      "text/plain": [
       "Iris-setosa        50\n",
       "Iris-versicolor    50\n",
       "Iris-virginica     50\n",
       "Name: Species, dtype: int64"
      ]
     },
     "execution_count": 9,
     "metadata": {},
     "output_type": "execute_result"
    }
   ],
   "source": [
    "df['Species'].value_counts()\n"
   ]
  },
  {
   "cell_type": "code",
   "execution_count": 10,
   "id": "44914b18-005d-45fe-b769-5bc2bbc780d0",
   "metadata": {},
   "outputs": [
    {
     "name": "stdout",
     "output_type": "stream",
     "text": [
      "Species Mapping: {'Iris-setosa': 0, 'Iris-versicolor': 1, 'Iris-virginica': 2}\n"
     ]
    }
   ],
   "source": [
    "# Map each species to a numeric value\n",
    "species_list = df['Species'].unique().tolist()\n",
    "species_mapping = {species: i for i, species in enumerate(species_list)}\n",
    "df['species_encoded'] = df['Species'].map(species_mapping)\n",
    "\n",
    "print(\"Species Mapping:\", species_mapping)\n"
   ]
  },
  {
   "cell_type": "code",
   "execution_count": 31,
   "id": "62e726e6-532b-4818-bbc5-82bc76d930c5",
   "metadata": {},
   "outputs": [
    {
     "data": {
      "text/plain": [
       "150"
      ]
     },
     "execution_count": 31,
     "metadata": {},
     "output_type": "execute_result"
    }
   ],
   "source": [
    "df['Species'].count()\n"
   ]
  },
  {
   "cell_type": "code",
   "execution_count": 11,
   "id": "9990ea35-ef5c-4b81-9141-25a68c84ac4b",
   "metadata": {},
   "outputs": [
    {
     "name": "stdout",
     "output_type": "stream",
     "text": [
      "\n",
      "Statistics for Iris-setosa:\n",
      "       SepalLength  SepalWidth  PetalLength  PetalWidth  species_encoded\n",
      "count    50.000000   50.000000    50.000000   50.000000             50.0\n",
      "mean      4.976777    3.114989     3.516816    1.016355              0.0\n",
      "std       0.375653    0.439041     0.495021    0.469857              0.0\n",
      "min       4.299074    2.023956     2.620630   -0.150961              0.0\n",
      "25%       4.721094    2.874613     3.117353    0.675187              0.0\n",
      "50%       4.973041    3.139421     3.506562    1.023947              0.0\n",
      "75%       5.176870    3.305987     3.803283    1.309427              0.0\n",
      "max       5.789606    4.071972     4.594901    2.037700              0.0\n",
      "\n",
      "Statistics for Iris-versicolor:\n",
      "       SepalLength  SepalWidth  PetalLength  PetalWidth  species_encoded\n",
      "count    50.000000   50.000000    50.000000   50.000000             50.0\n",
      "mean      4.944403    2.872364     3.498743    0.890692              1.0\n",
      "std       0.505585    0.475337     0.489745    0.539889              0.0\n",
      "min       4.006216    1.379366     2.438052   -0.235822              1.0\n",
      "25%       4.621665    2.561409     3.103327    0.528633              1.0\n",
      "50%       4.946822    2.855018     3.509276    0.783681              1.0\n",
      "75%       5.350282    3.220993     3.855346    1.158739              1.0\n",
      "max       5.943093    4.157329     4.377670    2.539440              1.0\n",
      "\n",
      "Statistics for Iris-virginica:\n",
      "       SepalLength  SepalWidth  PetalLength  PetalWidth  species_encoded\n",
      "count    50.000000   50.000000    50.000000   50.000000             50.0\n",
      "mean      4.955330    3.119492     3.566909    0.946015              2.0\n",
      "std       0.527051    0.577988     0.444932    0.442669              0.0\n",
      "min       3.690127    1.987429     2.480384   -0.105568              2.0\n",
      "25%       4.597537    2.649621     3.281073    0.639729              2.0\n",
      "50%       4.987948    3.174735     3.543200    0.932999              2.0\n",
      "75%       5.237680    3.427704     3.804017    1.245839              2.0\n",
      "max       6.231621    4.926366     4.576591    1.843571              2.0\n"
     ]
    }
   ],
   "source": [
    "for species in df['Species'].unique():\n",
    "    print(f\"\\nStatistics for {species}:\")\n",
    "    print(df[df['Species'] == species].describe())\n"
   ]
  },
  {
   "cell_type": "code",
   "execution_count": null,
   "id": "e0613524",
   "metadata": {},
   "outputs": [],
   "source": []
  }
 ],
 "metadata": {
  "kernelspec": {
   "display_name": "Python 3 (ipykernel)",
   "language": "python",
   "name": "python3"
  },
  "language_info": {
   "codemirror_mode": {
    "name": "ipython",
    "version": 3
   },
   "file_extension": ".py",
   "mimetype": "text/x-python",
   "name": "python",
   "nbconvert_exporter": "python",
   "pygments_lexer": "ipython3",
   "version": "3.11.4"
  }
 },
 "nbformat": 4,
 "nbformat_minor": 5
}
